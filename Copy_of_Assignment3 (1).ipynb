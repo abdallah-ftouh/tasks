{
  "cells": [
    {
      "cell_type": "markdown",
      "id": "ff38aad7",
      "metadata": {
        "id": "ff38aad7"
      },
      "source": [
        "### 1-Write a Python program that takes two numbers as user input and performs addition on them."
      ]
    },
    {
      "cell_type": "code",
      "execution_count": null,
      "id": "91696b79",
      "metadata": {
        "id": "91696b79",
        "colab": {
          "base_uri": "https://localhost:8080/"
        },
        "outputId": "5edad1fe-e48a-415b-eb81-923e52fbc0bd"
      },
      "outputs": [
        {
          "output_type": "stream",
          "name": "stdout",
          "text": [
            "PLZ,enter first number 11\n",
            "PLZ,enter second number 112\n",
            "The result of addition is  123\n"
          ]
        }
      ],
      "source": [
        "N1=int(input(\"PLZ,enter first number \"))\n",
        "N2=int(input(\"PLZ,enter second number \"))\n",
        "print(\"The result of addition is \",N1+N2)"
      ]
    },
    {
      "cell_type": "markdown",
      "id": "360854ff",
      "metadata": {
        "id": "360854ff"
      },
      "source": [
        "### 2-Write a Python program that takes an integer as input and checks if it is even or odd. Print \"Even\" if the number is divisible by 2, otherwise print \"Odd\"."
      ]
    },
    {
      "cell_type": "code",
      "execution_count": null,
      "id": "ee4c35fe",
      "metadata": {
        "ExecuteTime": {
          "end_time": "2023-07-23T21:35:24.351946Z",
          "start_time": "2023-07-23T21:35:23.287212Z"
        },
        "id": "ee4c35fe",
        "colab": {
          "base_uri": "https://localhost:8080/"
        },
        "outputId": "9e7ea1fc-8234-482d-e00f-450c8d5347aa"
      },
      "outputs": [
        {
          "output_type": "stream",
          "name": "stdout",
          "text": [
            "PLZ,enter first number 12\n",
            "ur number is even\n"
          ]
        }
      ],
      "source": [
        "N1=int(input(\"PLZ,enter first number \"))\n",
        "if N1%2==0:  #result of mod if equal 0 the number is even not equal 0 so the number is odd\n",
        "    print(\"ur number is even\")\n",
        "else:\n",
        "    print(\"ur number is odd\")"
      ]
    },
    {
      "cell_type": "markdown",
      "id": "6ea0354c",
      "metadata": {
        "id": "6ea0354c"
      },
      "source": [
        "### 3-Write a Python program that prints all the even numbers from 1 to 20 using a for loop"
      ]
    },
    {
      "cell_type": "code",
      "execution_count": null,
      "id": "df43b7f5",
      "metadata": {
        "ExecuteTime": {
          "end_time": "2023-07-23T21:36:51.373589Z",
          "start_time": "2023-07-23T21:36:51.365580Z"
        },
        "id": "df43b7f5",
        "colab": {
          "base_uri": "https://localhost:8080/"
        },
        "outputId": "b653f513-f996-4d11-f018-eea06ae4db37"
      },
      "outputs": [
        {
          "output_type": "stream",
          "name": "stdout",
          "text": [
            "2\n",
            "4\n",
            "6\n",
            "8\n",
            "10\n",
            "12\n",
            "14\n",
            "16\n",
            "18\n",
            "20\n"
          ]
        }
      ],
      "source": [
        "#first way by while loop\n",
        "i=1  #initialation value\n",
        "while i<=20: #loop end when i equal 20\n",
        "    if i%2==0: #condiation to print even numbers\n",
        "        print(i)\n",
        "    i=i+1"
      ]
    },
    {
      "cell_type": "code",
      "execution_count": null,
      "id": "cc16a5c2",
      "metadata": {
        "ExecuteTime": {
          "end_time": "2023-07-23T22:04:21.481350Z",
          "start_time": "2023-07-23T22:04:21.452242Z"
        },
        "id": "cc16a5c2",
        "colab": {
          "base_uri": "https://localhost:8080/"
        },
        "outputId": "b418a8ad-7fe5-4fa0-929f-4e067d6774a5"
      },
      "outputs": [
        {
          "output_type": "stream",
          "name": "stdout",
          "text": [
            "2\n",
            "4\n",
            "6\n",
            "8\n",
            "10\n",
            "12\n",
            "14\n",
            "16\n",
            "18\n",
            "20\n"
          ]
        }
      ],
      "source": [
        "#another way using range method\n",
        "for i in range(1,21,1): #range(start, stop, step)  start=1, stop 20 the value so it will be in method stop+1 =21\n",
        "    if i%2==0:#condiation to print even number\n",
        "        print(i)"
      ]
    },
    {
      "cell_type": "markdown",
      "id": "2d66bab2",
      "metadata": {
        "id": "2d66bab2"
      },
      "source": [
        "### 4-Write a Python function that takes a string as input and counts the number of vowels (a, e, i, o, u) in the string. The function should return the count"
      ]
    },
    {
      "cell_type": "code",
      "execution_count": null,
      "id": "a37a84fd",
      "metadata": {
        "ExecuteTime": {
          "end_time": "2023-07-23T21:45:58.522044Z",
          "start_time": "2023-07-23T21:45:58.514370Z"
        },
        "id": "a37a84fd",
        "colab": {
          "base_uri": "https://localhost:8080/"
        },
        "outputId": "5e5fb6c4-9e24-4c6f-a251-85adb8f0de22"
      },
      "outputs": [
        {
          "output_type": "stream",
          "name": "stdout",
          "text": [
            "enter ur string heeey\n",
            "3\n"
          ]
        }
      ],
      "source": [
        "def countVowel(V=input(\"enter ur string \")):\n",
        "  vowels = 'aeiouAEIOU'\n",
        "  Count = 0    #initialation value\n",
        "  for char in V: #loop to count vowel\n",
        "    if char in vowels: #condiation check vowels in string\n",
        "     Count+= 1\n",
        "  return Count #if delete i this line result will be \"none\"\n",
        "print(countVowel())\n",
        "\n"
      ]
    },
    {
      "cell_type": "markdown",
      "id": "a9a0ea06",
      "metadata": {
        "id": "a9a0ea06"
      },
      "source": [
        "### 5-Write a Python program that creates a list of numbers from 1 to 10. Use a loop to iterate over the list and print each number of power 2."
      ]
    },
    {
      "cell_type": "code",
      "execution_count": null,
      "id": "6fa658cf",
      "metadata": {
        "ExecuteTime": {
          "end_time": "2023-07-23T21:48:02.328880Z",
          "start_time": "2023-07-23T21:48:02.314313Z"
        },
        "id": "6fa658cf",
        "colab": {
          "base_uri": "https://localhost:8080/"
        },
        "outputId": "7ed83956-895a-4a8a-af06-073550bcc722"
      },
      "outputs": [
        {
          "output_type": "stream",
          "name": "stdout",
          "text": [
            "1 power 2= 1\n",
            "2 power 2= 4\n",
            "3 power 2= 9\n",
            "4 power 2= 16\n",
            "5 power 2= 25\n",
            "6 power 2= 36\n",
            "7 power 2= 49\n",
            "8 power 2= 64\n",
            "9 power 2= 81\n",
            "10 power 2= 100\n"
          ]
        }
      ],
      "source": [
        "#first way by for\n",
        "i=[1,2,3,4,5,6,7,8,9,10]\n",
        "for i in i:\n",
        "    print(i,\"power 2=\",i**2)"
      ]
    },
    {
      "cell_type": "code",
      "execution_count": null,
      "id": "f0e52d30",
      "metadata": {
        "ExecuteTime": {
          "end_time": "2023-07-15T16:20:03.747408Z",
          "start_time": "2023-07-15T16:20:03.740547Z"
        },
        "id": "f0e52d30",
        "colab": {
          "base_uri": "https://localhost:8080/"
        },
        "outputId": "72d07f36-eac7-410c-9c1a-39fc2bc72d67"
      },
      "outputs": [
        {
          "output_type": "stream",
          "name": "stdout",
          "text": [
            "10 power 2= 1\n",
            "10 power 2= 4\n",
            "10 power 2= 9\n",
            "10 power 2= 16\n",
            "10 power 2= 25\n",
            "10 power 2= 36\n",
            "10 power 2= 49\n",
            "10 power 2= 64\n",
            "10 power 2= 81\n",
            "10 power 2= 100\n"
          ]
        }
      ],
      "source": [
        "#another way by while loop\n",
        "l=[1,2,3,4,5,6,7,8,9,10]\n",
        "counter = 0\n",
        "while counter < len(l):\n",
        "    print(i,\"power 2=\",l[counter]**2)\n",
        "    counter += 1"
      ]
    },
    {
      "cell_type": "markdown",
      "id": "430c9df9",
      "metadata": {
        "id": "430c9df9"
      },
      "source": [
        "### 6-Write a Python program that calculates the average grade for a student based on their scores in different subjects. The program should include the following steps:\n",
        "\n",
        "#### 1-Create variables to store the student's name, subject names, and corresponding scores. Initialize the variables with sample data.\n",
        "\n",
        "#### 2-Prompt the user to enter the student's name and assign it to the name variable.\n",
        "\n",
        "#### 3-Use a loop to prompt the user to enter the subject names and corresponding scores. Store the subject names in a list and the scores in another list.\n",
        "\n",
        "#### 4-After collecting the scores, calculate the average grade by summing up all the scores and dividing by the total number of subjects.\n",
        "\n",
        "#### 5-Check if the average grade is above a 70, print a congratulatory message. Otherwise, print an encouragement message."
      ]
    },
    {
      "cell_type": "code",
      "source": [
        "name=input(\"enter ur name \")\n",
        "print(\"Hello\",name)\n",
        "suNa=int(input(\"enter number of subjects withe ur scores in the order\")) ##subject names\n",
        "L1=[] #empty list\n",
        "L2=[] #empty list\n",
        "for i in range(suNa):\n",
        "    ele1=input(\"enter subject name :\") #get subject name\n",
        "    S=int(input(\"enter ur score in \")) #get his or her score in the subject\n",
        "    L1.append(ele1) #store subjects name\n",
        "    L2.append(S) #store subjects score\n",
        "\n",
        "print(L1)\n",
        "print(L2)\n",
        "L1=L2\n",
        "urAverageGrade=sum(L2)/suNa #calculate the average grade by summing up all the scores and dividing by the total number of subjects\n",
        "print(\"ur average grade \",sum(L2)/suNa)#print the average grade\n",
        "if urAverageGrade>=70:\n",
        "    print(\"Congratulation\")\n",
        "else:\n",
        "    print(\"sorry, u should study hard,كله بسبب التليفون اللي ف ايدك سيبه وركز ف اللي وراك\")"
      ],
      "metadata": {
        "id": "g1xCPM1wCwft"
      },
      "id": "g1xCPM1wCwft",
      "execution_count": null,
      "outputs": []
    },
    {
      "cell_type": "markdown",
      "id": "ae9df360",
      "metadata": {
        "id": "ae9df360"
      },
      "source": [
        "### 7-Find Common Elements\n",
        "### Write a Python function that takes two lists as input and returns a new list containing the common elements present in both lists."
      ]
    },
    {
      "cell_type": "code",
      "source": [
        "numEleFiL=int(input(\"Range of first list? \")) #user enter range of the first list\n",
        "L1=[] #empty list\n",
        "for i in range(numEleFiL): #make list with same nummber user added\n",
        "    ele1=int(input(\"enter element :\")) #first i=0, print number of element\n",
        "    L1.append(ele1)\n",
        "\n",
        "numEle2L=int(input(\"Range of second list?\"))#user enter range of the second list\n",
        "L2=[] #empty list\n",
        "for i in range(numEle2L):#make list with same nummber user added\n",
        "    ele2=int(input(\"enter element :\"))#first i=0, print number of element\n",
        "    L2.append(ele2)\n",
        "\n",
        "L3=[]#empty list to  get common numbers\n",
        "for i in L1: #check\n",
        "  for j in L2:#check\n",
        "      if i==j:#condi\n",
        "        L3.append(i)\n",
        "for i in L3:\n",
        "  while L3.count(i)>1:\n",
        "    L3.remove(i)\n",
        "\n",
        "print(\"The first list is:\", L1)\n",
        "print(\"The second list is:\", L2)\n",
        "print(\"The common numbers are:\", L3)"
      ],
      "metadata": {
        "id": "yig41mpywqgg",
        "colab": {
          "base_uri": "https://localhost:8080/"
        },
        "outputId": "8b97eb4d-38c2-4ccb-9ae3-5b3e82d87273"
      },
      "id": "yig41mpywqgg",
      "execution_count": null,
      "outputs": [
        {
          "output_type": "stream",
          "name": "stdout",
          "text": [
            "Range of first list? 2\n",
            "enter element :11\n",
            "enter element :11\n",
            "Range of second list?2\n",
            "enter element :11\n",
            "enter element :11\n",
            "The first list is: [11, 11]\n",
            "The second list is: [11, 11]\n",
            "The common numbers are: [11]\n"
          ]
        }
      ]
    },
    {
      "cell_type": "markdown",
      "id": "9a2f34cb",
      "metadata": {
        "id": "9a2f34cb"
      },
      "source": [
        "### 8-Write a Python function that takes a list of numbers and an element to remove from the list."
      ]
    },
    {
      "cell_type": "code",
      "execution_count": null,
      "id": "78de9fe8",
      "metadata": {
        "ExecuteTime": {
          "end_time": "2023-07-23T22:21:36.514592Z",
          "start_time": "2023-07-23T22:21:36.505437Z"
        },
        "id": "78de9fe8"
      },
      "outputs": [],
      "source": [
        "l=[1,2,3,4,5,6,7,8,9]\n",
        "print(l)\n",
        "l.remove(l[1])\n",
        "print(l)"
      ]
    },
    {
      "cell_type": "markdown",
      "id": "f1658f3b",
      "metadata": {
        "ExecuteTime": {
          "end_time": "2023-07-23T22:18:08.230185Z",
          "start_time": "2023-07-23T22:18:08.224220Z"
        },
        "id": "f1658f3b"
      },
      "source": [
        "### 9-Given 4 numbers A, B, C and D. Print the last 2 digits from their Multiplication.\n",
        "### Example :\n",
        "### the Multiplication of 4 numbers is 5 * 7 * 2 * 4 = 280 so the answer will be the last 2 digits which are 80."
      ]
    },
    {
      "cell_type": "code",
      "execution_count": null,
      "id": "e3acbe03",
      "metadata": {
        "ExecuteTime": {
          "end_time": "2023-07-23T22:26:11.183016Z",
          "start_time": "2023-07-23T22:26:03.981069Z"
        },
        "id": "e3acbe03"
      },
      "outputs": [],
      "source": [
        "a=int(input(\"PLZ,enter first number \"))\n",
        "b=int(input(\"PLZ,enter second number \"))\n",
        "c=int(input(\"PLZ,enter third number \"))\n",
        "d=int(input(\"PLZ,enter fourth number \"))\n",
        "print(str(a*b*c*d)[-2:]) #[-2:] to get last 2 number\n",
        "#print(str(a*b*c*d)[1:]) i tried it but won't work if result bigger than 4 digit\n",
        "#it work well if result only 3  didits\n"
      ]
    },
    {
      "cell_type": "markdown",
      "id": "d7ab15bb",
      "metadata": {
        "ExecuteTime": {
          "end_time": "2023-07-23T22:26:14.833712Z",
          "start_time": "2023-07-23T22:26:14.819130Z"
        },
        "id": "d7ab15bb"
      },
      "source": [
        "### 10- Given a number X. Determine if the number is prime or not"
      ]
    },
    {
      "cell_type": "code",
      "execution_count": null,
      "id": "59b27f0a",
      "metadata": {
        "ExecuteTime": {
          "end_time": "2023-07-23T22:35:25.933766Z",
          "start_time": "2023-07-23T22:35:24.168681Z"
        },
        "id": "59b27f0a"
      },
      "outputs": [],
      "source": [
        "Num=int(input(\"PLZ,enter ur number \"))\n",
        "if Num%i==0: #condition to check if number is prime or not\n",
        "        print(\"ur number is not prime\")\n",
        "\n",
        "else:\n",
        "    print(\"ur number is prime\")"
      ]
    },
    {
      "cell_type": "markdown",
      "id": "e1d1dcf9",
      "metadata": {
        "id": "e1d1dcf9"
      },
      "source": [
        "### 11- Given a number N and a list A of N numbers. Determine if the number X exists in array A or not and print its position (0-index)."
      ]
    },
    {
      "cell_type": "code",
      "execution_count": null,
      "id": "2b002b0e",
      "metadata": {
        "ExecuteTime": {
          "end_time": "2023-07-23T22:53:41.474835Z",
          "start_time": "2023-07-23T22:53:41.458293Z"
        },
        "id": "2b002b0e"
      },
      "outputs": [],
      "source": [
        "l=[1,2,3,4,5,6,7,8,9]\n",
        "i=int(input(\"PLZ,enter the number \"))\n",
        "poss=l.index(i) #to search for the posrition and print\n",
        "if i in l:#search to check the num in list or not\n",
        "  print(i,\"is found in index\",poss)\n",
        "else:\n",
        "  print(\"not found\")\n"
      ]
    },
    {
      "cell_type": "markdown",
      "id": "f2ec854b",
      "metadata": {
        "id": "f2ec854b"
      },
      "source": [
        "### 12- Given a number N and a list A of N numbers. Determine if the array is lucky or not.\n",
        "\n",
        "#### Note: the array is lucky if the frequency (number of occurrence) of the minimum element is odd."
      ]
    },
    {
      "cell_type": "code",
      "execution_count": null,
      "id": "0c4f7f4b",
      "metadata": {
        "ExecuteTime": {
          "end_time": "2023-07-23T23:02:02.490192Z",
          "start_time": "2023-07-23T23:02:02.476874Z"
        },
        "id": "0c4f7f4b"
      },
      "outputs": [],
      "source": [
        "N=[1,2,3,4,5,6,7,8,9]\n",
        "a=min(N) #to know the minimum number in list\n",
        "print(a)\n",
        "if a%2==0: #condition to check the minimum number is odd or not\n",
        "  print(\"the array is not lucky\")\n",
        "else:\n",
        "  print(\"the array is lucky\")\n",
        "print(N)"
      ]
    },
    {
      "cell_type": "markdown",
      "id": "e1ce1ae5",
      "metadata": {
        "id": "e1ce1ae5"
      },
      "source": [
        "### 13-Given a number N and a list A of N numbers. Print the array after doing the following operations:\n",
        "\n",
        "#### Find minimum number in these numbers.\n",
        "#### Find maximum number in these numbers.\n",
        "##### Swap minimum number with maximum number."
      ]
    },
    {
      "cell_type": "code",
      "source": [
        "H=[1,2,3,4,5,6,7,8,9]\n",
        "n=min(H) #to know the minimum number in lis\n",
        "x=max(H) #to know the maximum number in list\n",
        "print(\"minimum number in these numbers is \",n)\n",
        "print(\"maximum number in these numbers is \",x)\n",
        "print(H)\n",
        "print(H.index(n)) #=0\n",
        "print(H.index(x)) #=8\n",
        "print(H[H.index(n)],H[H.index(x)])\n",
        "H[H.index(x)]=H[H.index(n)]\n",
        "H.remove(n)\n",
        "H.insert(0,x)\n",
        "print(H)\n",
        "\n"
      ],
      "metadata": {
        "id": "WKvq0-HBfUQ0"
      },
      "id": "WKvq0-HBfUQ0",
      "execution_count": null,
      "outputs": []
    },
    {
      "cell_type": "code",
      "source": [
        "#another way\n",
        "l=[1,2,3,4,5,6,7,8,9]\n",
        "print(l)\n",
        "l[l.index(min(l))],l[-1]=l[l.index(max(l))],l[0]\n",
        "print(l)\n"
      ],
      "metadata": {
        "id": "NbHyLZKpqMs7"
      },
      "id": "NbHyLZKpqMs7",
      "execution_count": null,
      "outputs": []
    },
    {
      "cell_type": "markdown",
      "id": "9eb8e9c5",
      "metadata": {
        "ExecuteTime": {
          "end_time": "2023-07-23T23:10:06.436833Z",
          "start_time": "2023-07-23T23:10:06.422086Z"
        },
        "id": "9eb8e9c5"
      },
      "source": [
        "### 14-Given a number N and an array A of N numbers. Print the lowest number and its position.\n",
        "\n",
        "### Note: if there are more than one answer print first one's position."
      ]
    },
    {
      "cell_type": "code",
      "execution_count": null,
      "id": "018e01c8",
      "metadata": {
        "ExecuteTime": {
          "end_time": "2023-07-23T23:20:38.498527Z",
          "start_time": "2023-07-23T23:20:38.490451Z"
        },
        "id": "018e01c8"
      },
      "outputs": [],
      "source": [
        "A=[1,2,3,4,5,6,7,8,9,9,1,12]\n",
        "print(\"the lowest number\", min(A))\n",
        "print(\"the position of the lowest number is\",A.index(min(A)))"
      ]
    },
    {
      "cell_type": "markdown",
      "id": "f35d3427",
      "metadata": {
        "ExecuteTime": {
          "end_time": "2023-07-23T23:20:55.880128Z",
          "start_time": "2023-07-23T23:20:55.861804Z"
        },
        "id": "f35d3427"
      },
      "source": [
        "### 15-Given a number N and an array A of N numbers. Print the numbers after sorting them"
      ]
    },
    {
      "cell_type": "code",
      "execution_count": null,
      "id": "a6e0edd4",
      "metadata": {
        "ExecuteTime": {
          "end_time": "2023-07-23T23:46:13.340484Z",
          "start_time": "2023-07-23T23:46:13.324468Z"
        },
        "id": "a6e0edd4"
      },
      "outputs": [],
      "source": [
        "A=[1,2,52,53,4,5,5,6,7,8,9,9,1,12]\n",
        "A.sort() #function for  sort the list\n",
        "print(A)"
      ]
    },
    {
      "cell_type": "code",
      "execution_count": null,
      "id": "38100d74",
      "metadata": {
        "ExecuteTime": {
          "end_time": "2023-07-23T23:46:14.343960Z",
          "start_time": "2023-07-23T23:46:14.325805Z"
        },
        "id": "38100d74"
      },
      "outputs": [],
      "source": [
        "#another way\n",
        "A=[1,2,52,53,4,5,5,6,7,8,9,9,1,12]\n",
        "print(sorted(A)) #method for  sort the list"
      ]
    },
    {
      "cell_type": "markdown",
      "id": "a172f354",
      "metadata": {
        "ExecuteTime": {
          "end_time": "2023-07-23T23:46:15.127981Z",
          "start_time": "2023-07-23T23:46:15.108766Z"
        },
        "id": "a172f354"
      },
      "source": [
        "### 16- Write a Python program to remove spaces from a given string"
      ]
    },
    {
      "cell_type": "code",
      "execution_count": null,
      "id": "36d3569d",
      "metadata": {
        "ExecuteTime": {
          "end_time": "2023-07-23T23:50:06.443640Z",
          "start_time": "2023-07-23T23:50:01.592919Z"
        },
        "id": "36d3569d"
      },
      "outputs": [],
      "source": [
        "s=\"hey how are you , friend?!\"\n",
        "print(s.replace(\" \",\"\"))"
      ]
    },
    {
      "cell_type": "code",
      "source": [
        "m=input(\"enter ur string \")\n",
        "print(m.replace(\" \",\"\"))"
      ],
      "metadata": {
        "id": "LqJ4e3uXteyT"
      },
      "id": "LqJ4e3uXteyT",
      "execution_count": null,
      "outputs": []
    },
    {
      "cell_type": "markdown",
      "id": "a5470d49",
      "metadata": {
        "id": "a5470d49"
      },
      "source": [
        "### 17-write a Python program to swap first and last element of any list."
      ]
    },
    {
      "cell_type": "code",
      "execution_count": null,
      "id": "9d73887b",
      "metadata": {
        "ExecuteTime": {
          "end_time": "2023-07-23T23:50:59.283429Z",
          "start_time": "2023-07-23T23:50:59.272096Z"
        },
        "id": "9d73887b"
      },
      "outputs": [],
      "source": [
        "l=[1,2,3,4,5,6,7,8,9]\n",
        "print(l)\n",
        "l[0],l[-1]=l[-1],l[0]\n",
        "print(l)"
      ]
    }
  ],
  "metadata": {
    "kernelspec": {
      "display_name": "Python 3 (ipykernel)",
      "language": "python",
      "name": "python3"
    },
    "language_info": {
      "codemirror_mode": {
        "name": "ipython",
        "version": 3
      },
      "file_extension": ".py",
      "mimetype": "text/x-python",
      "name": "python",
      "nbconvert_exporter": "python",
      "pygments_lexer": "ipython3",
      "version": "3.9.12"
    },
    "colab": {
      "provenance": []
    }
  },
  "nbformat": 4,
  "nbformat_minor": 5
}