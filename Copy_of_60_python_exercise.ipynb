{
  "cells": [
    {
      "cell_type": "markdown",
      "id": "759d04ba",
      "metadata": {
        "id": "759d04ba"
      },
      "source": [
        "**1-Write a Python program to calculate the length of a string using 2 ways"
      ]
    },
    {
      "cell_type": "code",
      "execution_count": null,
      "id": "e434c950",
      "metadata": {
        "id": "e434c950",
        "colab": {
          "base_uri": "https://localhost:8080/"
        },
        "outputId": "75148952-e933-4786-85da-a28b35441f7c"
      },
      "outputs": [
        {
          "output_type": "stream",
          "name": "stdout",
          "text": [
            "enter ur stringhhhh\n",
            "4\n"
          ]
        }
      ],
      "source": [
        "s=input(\"enter ur string\")\n",
        "L=len(s)\n",
        "print(\"the lenth of the string is \",L)"
      ]
    },
    {
      "cell_type": "code",
      "execution_count": null,
      "id": "7a2dfa32",
      "metadata": {
        "id": "7a2dfa32",
        "colab": {
          "base_uri": "https://localhost:8080/"
        },
        "outputId": "e3d7032d-cc15-4328-c0cc-eb8d996a4de3"
      },
      "outputs": [
        {
          "output_type": "stream",
          "name": "stdout",
          "text": [
            "enter ur stringllll\n",
            "the lenth of the string is  4\n"
          ]
        }
      ],
      "source": [
        "s=input(\"enter ur string\")\n",
        "l=0\n",
        "for i in s:\n",
        "  l+=1\n",
        "print(\"the lenth of the string is \",l)"
      ]
    },
    {
      "cell_type": "markdown",
      "id": "d7cc9da7",
      "metadata": {
        "id": "d7cc9da7"
      },
      "source": [
        "**2-Write a Python program to get a string made of the first 2 and last 2 characters of a given string. If the string length is less than 2, return the empty string instead (\"##Sample String : 'w3resource'\n",
        "Expected Result : 'w3ce'\n",
        "##Sample String : 'w3'\n",
        "Expected Result : 'w3w3'\n",
        "##Sample String : ' w'\n",
        "Expected Result : Empty String)"
      ]
    },
    {
      "cell_type": "code",
      "execution_count": null,
      "id": "dafa9dd8",
      "metadata": {
        "id": "dafa9dd8",
        "colab": {
          "base_uri": "https://localhost:8080/"
        },
        "outputId": "0856fd86-4d05-451c-a56b-f5e90b840c21"
      },
      "outputs": [
        {
          "output_type": "stream",
          "name": "stdout",
          "text": [
            "enter the stingjjbbhv\n",
            "jjhv\n"
          ]
        }
      ],
      "source": [
        "w=input(\"enter the sting\")\n",
        "if len(w)<2:\n",
        "  print(\"this is empty string\")\n",
        "else:\n",
        "  be=w[:2:1]\n",
        "  en=w[-2::1]\n",
        "  print(be,en,sep=\"\")"
      ]
    },
    {
      "cell_type": "markdown",
      "id": "1534f956",
      "metadata": {
        "id": "1534f956"
      },
      "source": [
        "**3-Write a Python program to add 'ing' at the end of a given string (length should be at least 3). If the given string already ends with 'ing', add 'ly' instead. If the string length of the given string is less than 3, leave it unchanged. (Sample String : 'abc'\n",
        "Expected Result : 'abcing')"
      ]
    },
    {
      "cell_type": "code",
      "execution_count": null,
      "id": "7ff8cec4",
      "metadata": {
        "id": "7ff8cec4",
        "colab": {
          "base_uri": "https://localhost:8080/"
        },
        "outputId": "92510f02-745f-4cc4-912f-aa8a71e1bfd0"
      },
      "outputs": [
        {
          "output_type": "stream",
          "name": "stdout",
          "text": [
            "enter the stringbing\n",
            "bingly\n"
          ]
        }
      ],
      "source": [
        "s=input(\"enter the string \")\n",
        "if len(s)<3:\n",
        "  print(s,\"ur string hasn't any changes\")\n",
        "elif s.endswith(\"ing\"):# endswith method that check if string end same the value u selected\n",
        "#Syntax od endswith (value,start,end) in our case care about value so start and end aren't important,so method will be endswith(vl)\n",
        "  print(s+\"ly\")\n",
        "else:\n",
        "  print(s+\"ing\")\n"
      ]
    },
    {
      "cell_type": "code",
      "source": [
        "#another way\n",
        "s=input(\"enter the string \")\n",
        "if len(s)>=3:\n",
        "  print(s,end=\"ing\")\n",
        "  if s[-3::]==\"ing\":\n",
        "    print(s,end=\"ly\")\n",
        "else:\n",
        "  print(s)\n"
      ],
      "metadata": {
        "colab": {
          "base_uri": "https://localhost:8080/"
        },
        "id": "P5rd2ZNGuWS3",
        "outputId": "50a8e936-aa85-47ac-d6c0-01c4bad8adf2"
      },
      "id": "P5rd2ZNGuWS3",
      "execution_count": null,
      "outputs": [
        {
          "output_type": "stream",
          "name": "stdout",
          "text": [
            "enter the stringbbbbbb'\n",
            "bbbbbb'ing"
          ]
        }
      ]
    },
    {
      "cell_type": "markdown",
      "id": "1c0a6627",
      "metadata": {
        "id": "1c0a6627"
      },
      "source": [
        "**4-Write a Python function that takes a list of words and return the longest word and the length of the longest one\n",
        "(Longest word: Exercises\n",
        "Length of the longest word: 9)"
      ]
    },
    {
      "cell_type": "code",
      "source": [
        "L1=[\"hhhhhh\",\"kkkkkkkkkkk\",\"kkkk\",\"l\",\"gggggg\",\"jjjjjjjjjjjjjjjj\"]\n"
      ],
      "metadata": {
        "id": "082zybf4tbil"
      },
      "id": "082zybf4tbil",
      "execution_count": null,
      "outputs": []
    },
    {
      "cell_type": "markdown",
      "id": "53a03a6a",
      "metadata": {
        "id": "53a03a6a"
      },
      "source": [
        "**5-Write a Python program to change a given string to a newly string where the first and last chars have been exchanged using 2 ways (Sample String:abca  Expected Result:ebce)"
      ]
    },
    {
      "cell_type": "code",
      "execution_count": null,
      "id": "fd327d2a",
      "metadata": {
        "id": "fd327d2a",
        "colab": {
          "base_uri": "https://localhost:8080/"
        },
        "outputId": "48fbbc0b-ecbc-4e69-c821-2a74b051392d"
      },
      "outputs": [
        {
          "output_type": "stream",
          "name": "stdout",
          "text": [
            "enter ur sting abca\n",
            "enter thw char that u want to add to the string e\n",
            "ebce"
          ]
        }
      ],
      "source": [
        "s=input(\"enter ur sting \")\n",
        "w=input(\"enter thw char that u want to add to the string \")\n",
        "print(w+s[1:-1],sep=\"\",end=\"\"+w)"
      ]
    },
    {
      "cell_type": "code",
      "execution_count": null,
      "id": "285788b4",
      "metadata": {
        "id": "285788b4",
        "colab": {
          "base_uri": "https://localhost:8080/"
        },
        "outputId": "a4fab88e-b58a-4719-9ed7-23992306d69b"
      },
      "outputs": [
        {
          "output_type": "stream",
          "name": "stdout",
          "text": [
            "enter ur sting abcddd\n",
            "enter thw char that u want to add to the string e\n",
            "ebcddd\n"
          ]
        }
      ],
      "source": [
        "s=input(\"enter ur sting \")\n",
        "w=input(\"enter thw char that u want to add to the string \")\n",
        "ch=s.replace(s[0],w) #with replace it will replace all chars like first char\n",
        "print(ch)"
      ]
    },
    {
      "cell_type": "code",
      "source": [
        "#i tried to use endswith but is failed\n",
        "#s=input(\"enter ur sting \")\n",
        "#w=input(\"enter thw char that u want to add to the string \")\n",
        "#ch=s.endswith(w,s[0],s[-1])\n",
        "#print(ch)"
      ],
      "metadata": {
        "id": "y4zJVyslQewY"
      },
      "id": "y4zJVyslQewY",
      "execution_count": null,
      "outputs": []
    },
    {
      "cell_type": "markdown",
      "id": "25f89808",
      "metadata": {
        "id": "25f89808"
      },
      "source": [
        "**6-Write a Python program to remove characters that have odd index values in a given string (Sample String:abca Expected Result:ac)"
      ]
    },
    {
      "cell_type": "code",
      "execution_count": null,
      "id": "05959bd7",
      "metadata": {
        "id": "05959bd7",
        "colab": {
          "base_uri": "https://localhost:8080/"
        },
        "outputId": "47aa5e3a-24b3-4499-8494-aec0bdf2c1d8"
      },
      "outputs": [
        {
          "output_type": "stream",
          "name": "stdout",
          "text": [
            "enter ur sting ssjjkskksks\n",
            "sjkkss\n"
          ]
        }
      ],
      "source": [
        "s=input(\"enter ur sting \")\n",
        "print(s[::2])"
      ]
    },
    {
      "cell_type": "markdown",
      "id": "eb16e898",
      "metadata": {
        "id": "eb16e898"
      },
      "source": [
        "**7-Write a Python program to count the occurrences of each word in a given sentence (Sample String:amr and ahmed are frindes but amr is the tallest Expected Result:2)"
      ]
    },
    {
      "cell_type": "code",
      "execution_count": null,
      "id": "01ce6cf5",
      "metadata": {
        "id": "01ce6cf5",
        "colab": {
          "base_uri": "https://localhost:8080/"
        },
        "outputId": "c0b979c5-f8ff-4702-cb10-bee2a66380b8"
      },
      "outputs": [
        {
          "output_type": "stream",
          "name": "stdout",
          "text": [
            "2 1\n"
          ]
        }
      ],
      "source": [
        "st=\"amr and ahmed are frindes but amr is the tallest\"\n",
        "c=st.count(\"amr\")\n",
        "j=st.count(\"ahmed\")\n",
        "print(c,j)"
      ]
    },
    {
      "cell_type": "code",
      "source": [
        "#way that user input the string\n",
        "\n",
        "def wordsCo(x):\n",
        " # x=input(\" enter ur string \")\n",
        "  count=dict()\n",
        "  words=x.split()\n",
        "\n",
        "  for i in words:\n",
        "    if i in count:\n",
        "      count[i]+=1\n",
        "      c=count[i]\n",
        "    else:\n",
        "     count[i]=1\n",
        "     c=count[i]\n",
        "  print(count)\n",
        "  return c\n",
        "  return count\n",
        "\n",
        "print(wordsCo(x=input(\"ur string\")))\n",
        "#print(wordsCo(\"amr and ahmed are frindes but amr is the tallest\"))\n",
        "\n",
        "\n"
      ],
      "metadata": {
        "colab": {
          "base_uri": "https://localhost:8080/"
        },
        "id": "nmgQLcKETzx9",
        "outputId": "86a00393-4fca-4d86-9136-fb85ec97dffc"
      },
      "id": "nmgQLcKETzx9",
      "execution_count": null,
      "outputs": [
        {
          "output_type": "stream",
          "name": "stdout",
          "text": [
            "ur stringamr and ahmed are frindes but amr \n",
            "{'amr': 2, 'and': 1, 'ahmed': 1, 'are': 1, 'frindes': 1, 'but': 1}\n",
            "2\n"
          ]
        }
      ]
    },
    {
      "cell_type": "markdown",
      "id": "4e8125f1",
      "metadata": {
        "id": "4e8125f1"
      },
      "source": [
        "**8-Write a Python script that takes input from the user and displays that input back in upper and lower cases"
      ]
    },
    {
      "cell_type": "code",
      "execution_count": null,
      "id": "66c8f778",
      "metadata": {
        "id": "66c8f778",
        "colab": {
          "base_uri": "https://localhost:8080/"
        },
        "outputId": "22235ed7-1a1f-44eb-f669-f5be47b3c3af"
      },
      "outputs": [
        {
          "output_type": "stream",
          "name": "stdout",
          "text": [
            "enter ur string efvhdvhabjbbAAA\n",
            "ur string in upper EFVHDVHABJBBAAA\n",
            "ur string in lower efvhdvhabjbbaaa\n"
          ]
        }
      ],
      "source": [
        "s=input(\"enter ur string \")\n",
        "up=s.upper()\n",
        "lo=s.lower()\n",
        "print(\"ur string in upper\",up)\n",
        "print(\"ur string in lower\",lo)"
      ]
    },
    {
      "cell_type": "markdown",
      "id": "fcd68aa1",
      "metadata": {
        "id": "fcd68aa1"
      },
      "source": [
        "**9-Write a Python function to reverse a string if its length is a multiple of 4"
      ]
    },
    {
      "cell_type": "code",
      "execution_count": null,
      "id": "0671a931",
      "metadata": {
        "id": "0671a931",
        "colab": {
          "base_uri": "https://localhost:8080/"
        },
        "outputId": "31941981-b747-4e30-db9a-f95d65201da8"
      },
      "outputs": [
        {
          "output_type": "stream",
          "name": "stdout",
          "text": [
            "enter ur string fffg\n",
            "gfff\n"
          ]
        }
      ],
      "source": [
        "s=input(\"enter ur string \")\n",
        "ch=len(s)\n",
        "if ch%4==0:\n",
        "  re=s[::-1]\n",
        "  print(re)\n",
        "else:\n",
        "  print(s)"
      ]
    },
    {
      "cell_type": "markdown",
      "id": "b577c68d",
      "metadata": {
        "id": "b577c68d"
      },
      "source": [
        "**10- Write a Python program to remove a newline in Python"
      ]
    },
    {
      "cell_type": "code",
      "execution_count": null,
      "id": "e0c6525a",
      "metadata": {
        "id": "e0c6525a",
        "colab": {
          "base_uri": "https://localhost:8080/"
        },
        "outputId": "d8173c45-1e6d-464e-ec60-15bbb2682acb"
      },
      "outputs": [
        {
          "output_type": "stream",
          "name": "stdout",
          "text": [
            "heey\n",
            "how  r u\n",
            "ssssss\n"
          ]
        }
      ],
      "source": [
        "#s=input(\"enter ur string \")\n",
        "ss=\"heey\\nhow  r u\"\n",
        "print(ss)\n",
        "print(s.replace(\"\\n\",\"\"))\n"
      ]
    },
    {
      "cell_type": "markdown",
      "id": "80db5ae0",
      "metadata": {
        "id": "80db5ae0"
      },
      "source": [
        "**11-Write a Python program to check whether a string starts with specified characters"
      ]
    },
    {
      "cell_type": "code",
      "execution_count": null,
      "id": "0cc4e03e",
      "metadata": {
        "id": "0cc4e03e",
        "colab": {
          "base_uri": "https://localhost:8080/"
        },
        "outputId": "88a3559d-f565-4590-c205-e900d85cf15d"
      },
      "outputs": [
        {
          "output_type": "stream",
          "name": "stdout",
          "text": [
            "enter the string aaabbbha\n",
            "enter ur specified characters aaa\n",
            "ur string start with specified characters\n"
          ]
        }
      ],
      "source": [
        "#first way convert string to list then check if two lists r equal or not\n",
        "s=input(\"enter the string \")\n",
        "w=input(\"enter ur specified characters \")\n",
        "o=list(s)\n",
        "ww=list(w)\n",
        "j=o[:3]\n",
        "if j==ww:\n",
        "  print(\"ur string start with specified characters\")\n",
        "else:\n",
        "  print(\"ur string doesn't start with specified characters\")\n",
        "\n",
        "\n"
      ]
    },
    {
      "cell_type": "code",
      "source": [
        "#another way\n",
        "s=input(\"enter the string \")\n",
        "w=input(\"enter ur specified characters \")\n",
        "x=len(w)\n",
        "j=s[:x]\n",
        "if j==w:\n",
        "  print(\"ur string start with specified characters\")\n",
        "else:\n",
        "  print(\"ur string doesn't start with specified characters\")\n",
        "\n"
      ],
      "metadata": {
        "colab": {
          "base_uri": "https://localhost:8080/"
        },
        "id": "GuzVTJZv1fSB",
        "outputId": "ee7210b4-1bc9-4603-f3d8-1ab52052835b"
      },
      "id": "GuzVTJZv1fSB",
      "execution_count": null,
      "outputs": [
        {
          "output_type": "stream",
          "name": "stdout",
          "text": [
            "enter the string avvvvvvaaaa\n",
            "enter ur specified characters avvvv\n",
            "avvvv\n",
            "ur string start with specified characters\n"
          ]
        }
      ]
    },
    {
      "cell_type": "markdown",
      "id": "593a68db",
      "metadata": {
        "id": "593a68db"
      },
      "source": [
        "**12- Write a Python program to add prefix text to all of the lines in a string"
      ]
    },
    {
      "cell_type": "code",
      "source": [
        "#way string as input\n",
        "k=input(\"enter the string \")\n",
        "a=input(\"enter the string \")\n",
        "p=input(\"enter the string \")\n",
        "j=\"\\n\"+k+\"\\n\"+a+\"\\n\"+p\n",
        "print(j)\n",
        "w=input(\"enter ur perfix text \")\n",
        "for i in j:\n",
        "  if i==\"\\n\":\n",
        "    ss=j.replace(i,\"\\n\"+w)\n",
        "    print(ss)\n",
        "    break"
      ],
      "metadata": {
        "id": "yk1RPyP5AIyj"
      },
      "id": "yk1RPyP5AIyj",
      "execution_count": null,
      "outputs": []
    },
    {
      "cell_type": "code",
      "source": [
        "#way if string is given\n",
        "s=\"\\nWrite a Python program\\n to add prefix text to\\n all of the lines in a string\"\n",
        "w=input(\"enter ur perfix text \")\n",
        "for i in s:\n",
        "  if i==\"\\n\":\n",
        "    ss=s.replace(i,\"\\n\"+w)\n",
        "    print(ss)\n",
        "    break"
      ],
      "metadata": {
        "colab": {
          "base_uri": "https://localhost:8080/"
        },
        "id": "pHzIPjYC6_cZ",
        "outputId": "33338aa5-5297-40d2-da3a-39db412d286a"
      },
      "id": "pHzIPjYC6_cZ",
      "execution_count": null,
      "outputs": [
        {
          "output_type": "stream",
          "name": "stdout",
          "text": [
            "enter ur perfix text aaa\n",
            "\n",
            "aaaWrite a Python program\n",
            "aaa to add prefix text to\n",
            "aaa all of the lines in a string\n"
          ]
        }
      ]
    },
    {
      "cell_type": "markdown",
      "id": "86fa1543",
      "metadata": {
        "id": "86fa1543"
      },
      "source": [
        "**13-Write a Python program to print the following numbers up to 2 decimal places"
      ]
    },
    {
      "cell_type": "code",
      "execution_count": 51,
      "id": "cd4a9d89",
      "metadata": {
        "id": "cd4a9d89",
        "colab": {
          "base_uri": "https://localhost:8080/"
        },
        "outputId": "fabb86cc-3638-4c7a-82b1-594decc8d939"
      },
      "outputs": [
        {
          "output_type": "stream",
          "name": "stdout",
          "text": [
            "1.00\n",
            "2.00\n",
            "3.00\n",
            "0.30\n"
          ]
        }
      ],
      "source": [
        "s=[1,2,3,.3]\n",
        "\n",
        "for i in s:\n",
        "  print(f\"{i:.2f}\")"
      ]
    },
    {
      "cell_type": "markdown",
      "id": "452c0ab0",
      "metadata": {
        "id": "452c0ab0"
      },
      "source": [
        "**14-Write a Python program to print the following numbers up to 2 decimal places with a sign"
      ]
    },
    {
      "cell_type": "code",
      "execution_count": 50,
      "id": "73e82479",
      "metadata": {
        "id": "73e82479",
        "colab": {
          "base_uri": "https://localhost:8080/"
        },
        "outputId": "14095c0a-e088-4a16-b963-920fd86e643c"
      },
      "outputs": [
        {
          "output_type": "stream",
          "name": "stdout",
          "text": [
            "1.00\n",
            "-2.00\n",
            "3.00\n",
            "0.30\n"
          ]
        }
      ],
      "source": [
        "s=[1,-2,3,.3]\n",
        "\n",
        "for i in s:\n",
        "  print(f\"{i:.2f}\")"
      ]
    },
    {
      "cell_type": "markdown",
      "id": "32b1811a",
      "metadata": {
        "id": "32b1811a"
      },
      "source": [
        "**15-Write a Python program to display a number with a comma separator"
      ]
    },
    {
      "cell_type": "code",
      "execution_count": null,
      "id": "f30fc0b6",
      "metadata": {
        "id": "f30fc0b6",
        "colab": {
          "base_uri": "https://localhost:8080/"
        },
        "outputId": "6964743d-942c-4a98-e76b-9033c871b40a"
      },
      "outputs": [
        {
          "output_type": "stream",
          "name": "stdout",
          "text": [
            "enter  ur number 1111\n",
            "1111.0\n"
          ]
        }
      ],
      "source": [
        "s=int(input(\"enter  ur number \"))\n",
        "f=float(s)\n",
        "print(f)"
      ]
    },
    {
      "cell_type": "markdown",
      "id": "0477f487",
      "metadata": {
        "id": "0477f487"
      },
      "source": [
        "**16-Write a Python program to reverse a string using 2 ways"
      ]
    },
    {
      "cell_type": "code",
      "execution_count": null,
      "id": "aa8beec8",
      "metadata": {
        "id": "aa8beec8",
        "colab": {
          "base_uri": "https://localhost:8080/"
        },
        "outputId": "78409405-277e-45b5-c619-fdf3955a5a0f"
      },
      "outputs": [
        {
          "output_type": "stream",
          "name": "stdout",
          "text": [
            "enter ur string lolk\n",
            "klol\n"
          ]
        }
      ],
      "source": [
        "s=input(\"enter ur string \")\n",
        "j=s[::-1]\n",
        "print(j)"
      ]
    },
    {
      "cell_type": "code",
      "source": [
        "s=input(\"enter ur sttring \")\n",
        "j=len(s)\n",
        "i=j-1\n",
        "while i>=0:\n",
        "  print(s[i],end=\"\")\n",
        "  i-=1\n"
      ],
      "metadata": {
        "colab": {
          "base_uri": "https://localhost:8080/"
        },
        "id": "UtDvfQO7JQ_6",
        "outputId": "611012ed-ea50-4c65-f15d-5ba223c5d845"
      },
      "id": "UtDvfQO7JQ_6",
      "execution_count": null,
      "outputs": [
        {
          "output_type": "stream",
          "name": "stdout",
          "text": [
            "enter ur sttring lolk\n",
            "klol"
          ]
        }
      ]
    },
    {
      "cell_type": "markdown",
      "id": "5afc3166",
      "metadata": {
        "id": "5afc3166"
      },
      "source": [
        " **17-Write a Python program to count repeated characters in a string (hint:use dictionary)"
      ]
    },
    {
      "cell_type": "code",
      "execution_count": null,
      "id": "515a469c",
      "metadata": {
        "id": "515a469c",
        "colab": {
          "base_uri": "https://localhost:8080/"
        },
        "outputId": "5896113c-1c48-4a31-b4e3-069340605b51"
      },
      "outputs": [
        {
          "output_type": "stream",
          "name": "stdout",
          "text": [
            "ur string jjjjj\n",
            "{'j': 5}\n",
            "5\n"
          ]
        }
      ],
      "source": [
        "def wordsCo(x):\n",
        "  chars={}\n",
        "  for i in x:\n",
        "    if i in chars:\n",
        "      chars[i]+=1\n",
        "      c=chars[i]\n",
        "    else:\n",
        "     chars[i]=1\n",
        "     c=chars[i]\n",
        "  print(chars)\n",
        "  return c\n",
        "  return chars\n",
        "\n",
        "print(wordsCo(x=input(\"ur string \")))"
      ]
    },
    {
      "cell_type": "markdown",
      "id": "ae14e4e5",
      "metadata": {
        "id": "ae14e4e5"
      },
      "source": [
        "**18-Write a Python program to find the first non-repeating character in a given string"
      ]
    },
    {
      "cell_type": "code",
      "execution_count": null,
      "id": "d73778e5",
      "metadata": {
        "id": "d73778e5",
        "colab": {
          "base_uri": "https://localhost:8080/"
        },
        "outputId": "3a163c3e-7028-4937-e6c5-756825935ad2"
      },
      "outputs": [
        {
          "output_type": "stream",
          "name": "stdout",
          "text": [
            "ur string all\n",
            "{'a': 1, 'l': 2}\n",
            "1\n"
          ]
        }
      ],
      "source": [
        "def wordsCo(x):\n",
        "  chars={}\n",
        "  for i in x:\n",
        "    if i in chars:\n",
        "      chars[i]+=1\n",
        "\n",
        "    else:\n",
        "     chars[i]=1\n",
        "     c=chars[i]\n",
        "  print(chars)\n",
        "  return c\n",
        "  return chars\n",
        "\n",
        "print(wordsCo(x=input(\"ur string \")))"
      ]
    },
    {
      "cell_type": "markdown",
      "id": "3adf5669",
      "metadata": {
        "id": "3adf5669"
      },
      "source": [
        "**19-Write a Python program to remove spaces from a given string"
      ]
    },
    {
      "cell_type": "code",
      "execution_count": null,
      "id": "b4f22602",
      "metadata": {
        "id": "b4f22602",
        "colab": {
          "base_uri": "https://localhost:8080/"
        },
        "outputId": "0b7a2e05-dccb-4e7c-ef26-649ebbc7731a"
      },
      "outputs": [
        {
          "output_type": "stream",
          "name": "stdout",
          "text": [
            "enter ur string ssss   s sss\n",
            "ssssssss\n"
          ]
        }
      ],
      "source": [
        "s=input(\"enter ur string \")\n",
        "j=s.replace(\" \",\"\")\n",
        "print(j)"
      ]
    },
    {
      "cell_type": "markdown",
      "id": "734de60c",
      "metadata": {
        "id": "734de60c"
      },
      "source": [
        "**20-Write a Python program to count the number of non-empty substrings of a given string"
      ]
    },
    {
      "cell_type": "code",
      "execution_count": null,
      "id": "ef3f2274",
      "metadata": {
        "id": "ef3f2274",
        "colab": {
          "base_uri": "https://localhost:8080/"
        },
        "outputId": "4a1ad2ff-7701-4654-86cd-7d58579a4a72"
      },
      "outputs": [
        {
          "output_type": "stream",
          "name": "stdout",
          "text": [
            "enter ur string HHH\n",
            "3\n",
            "6.0\n"
          ]
        }
      ],
      "source": [
        "s=input(\"enter ur string \")\n",
        "if len(s)>=0:\n",
        "  print(len(s))\n",
        "  print(len(s)*(len(s)+1)/2)\n",
        "\n",
        "else:\n",
        "  print(\"THE STRING IS EMPTY\")\n",
        "\n"
      ]
    },
    {
      "cell_type": "markdown",
      "id": "509998e2",
      "metadata": {
        "id": "509998e2"
      },
      "source": [
        "**21-write a Python program to swap first and last element of any list."
      ]
    },
    {
      "cell_type": "code",
      "source": [
        "l=[1,55,77,55,77,88]\n",
        "l[0],l[-2]=l[-2],l[0]\n",
        "print(l)"
      ],
      "metadata": {
        "colab": {
          "base_uri": "https://localhost:8080/"
        },
        "id": "tFk-29GzRT2l",
        "outputId": "1dd44857-1167-442d-ff33-5a8519ecaa48"
      },
      "id": "tFk-29GzRT2l",
      "execution_count": null,
      "outputs": [
        {
          "output_type": "stream",
          "name": "stdout",
          "text": [
            "[77, 55, 77, 55, 1, 88]\n"
          ]
        }
      ]
    },
    {
      "cell_type": "markdown",
      "id": "959e0837",
      "metadata": {
        "id": "959e0837"
      },
      "source": [
        "**22-Given a list in Python and provided the positions of the elements, write a program to swap the two elements in the list. (Input : List = [23, 65, 19, 90], pos1 = 1, pos2 = 3\n",
        "Output : [19, 65, 23, 90])"
      ]
    },
    {
      "cell_type": "code",
      "source": [
        "l=[23, 65, 19, 90]\n",
        "l[0],l[-2]=l[-2],l[0]\n",
        "print(l)"
      ],
      "metadata": {
        "colab": {
          "base_uri": "https://localhost:8080/"
        },
        "id": "SPOnZfkcRySx",
        "outputId": "fea9d27b-c412-44cf-9f09-0549bdaada65"
      },
      "id": "SPOnZfkcRySx",
      "execution_count": null,
      "outputs": [
        {
          "output_type": "stream",
          "name": "stdout",
          "text": [
            "[19, 65, 23, 90]\n"
          ]
        }
      ]
    },
    {
      "cell_type": "markdown",
      "id": "66fc6682",
      "metadata": {
        "id": "66fc6682"
      },
      "source": [
        "**23- search for the all ways to know the length of the list"
      ]
    },
    {
      "cell_type": "code",
      "source": [
        "l=[23, 65, 19, 90]\n",
        "print(len(l))\n"
      ],
      "metadata": {
        "id": "loVJAHCzRv8m"
      },
      "id": "loVJAHCzRv8m",
      "execution_count": null,
      "outputs": []
    },
    {
      "cell_type": "markdown",
      "source": [
        "**24-write a Python code to find the Maximum number of list of numbers.\n"
      ],
      "metadata": {
        "id": "xYkl3bwqS6MJ"
      },
      "id": "xYkl3bwqS6MJ"
    },
    {
      "cell_type": "code",
      "execution_count": null,
      "id": "15f342de",
      "metadata": {
        "id": "15f342de",
        "colab": {
          "base_uri": "https://localhost:8080/"
        },
        "outputId": "32439d99-6889-498b-eb97-7fc5c53f4b84"
      },
      "outputs": [
        {
          "output_type": "stream",
          "name": "stdout",
          "text": [
            "90\n"
          ]
        }
      ],
      "source": [
        "l=[23, 65, 19, 90]\n",
        "print(max(l))"
      ]
    },
    {
      "cell_type": "code",
      "source": [
        "numEleFiL=int(input(\"Range of list? \")) #user enter range of the first list\n",
        "L1=[] #empty list\n",
        "for i in range(numEleFiL): #make list with same nummber user added\n",
        "    ele1=int(input(\"enter element :\")) #first i=0, print number of element\n",
        "    L1.append(ele1)\n",
        "    print(max(L1))"
      ],
      "metadata": {
        "colab": {
          "base_uri": "https://localhost:8080/"
        },
        "id": "ZGQwD85PTbYR",
        "outputId": "5fdd8cb6-06ee-435a-fcc1-bfc04a0acbf2"
      },
      "id": "ZGQwD85PTbYR",
      "execution_count": null,
      "outputs": [
        {
          "output_type": "stream",
          "name": "stdout",
          "text": [
            "Range of list? 3\n",
            "enter element :11\n",
            "11\n",
            "enter element :2\n",
            "11\n",
            "enter element :112\n",
            "112\n"
          ]
        }
      ]
    },
    {
      "cell_type": "markdown",
      "source": [
        "**25-write a Python code to find the Minimum number of list of numbers."
      ],
      "metadata": {
        "id": "M5zGBIqDTH_w"
      },
      "id": "M5zGBIqDTH_w"
    },
    {
      "cell_type": "code",
      "execution_count": null,
      "id": "1a89b9d3",
      "metadata": {
        "id": "1a89b9d3",
        "colab": {
          "base_uri": "https://localhost:8080/"
        },
        "outputId": "fab7d7af-6822-4225-ea44-6e1a930d08bb"
      },
      "outputs": [
        {
          "output_type": "stream",
          "name": "stdout",
          "text": [
            "19\n"
          ]
        }
      ],
      "source": [
        "l=[23, 65, 19, 90]\n",
        "print(min(l))"
      ]
    },
    {
      "cell_type": "code",
      "source": [
        "numEleFiL=int(input(\"Range of list? \")) #user enter range of the first list\n",
        "L1=[] #empty list\n",
        "for i in range(numEleFiL): #make list with same nummber user added\n",
        "    ele1=int(input(\"enter element :\")) #first i=0, print number of element\n",
        "    L1.append(ele1)\n",
        "    print(min(L1))"
      ],
      "metadata": {
        "colab": {
          "base_uri": "https://localhost:8080/"
        },
        "id": "Gwa0URD9Trvi",
        "outputId": "695cfffa-2a1d-403d-e932-804064159cd7"
      },
      "id": "Gwa0URD9Trvi",
      "execution_count": null,
      "outputs": [
        {
          "output_type": "stream",
          "name": "stdout",
          "text": [
            "Range of list? 3\n",
            "enter element :11\n",
            "11\n",
            "enter element :22\n",
            "11\n",
            "enter element :1\n",
            "1\n"
          ]
        }
      ]
    },
    {
      "cell_type": "markdown",
      "id": "96822d96",
      "metadata": {
        "id": "96822d96"
      },
      "source": [
        "**26-search for if an elem is existing in list"
      ]
    },
    {
      "cell_type": "code",
      "execution_count": null,
      "id": "51ca5c9a",
      "metadata": {
        "id": "51ca5c9a",
        "colab": {
          "base_uri": "https://localhost:8080/"
        },
        "outputId": "a57fc912-48a5-44e8-b9c0-19c89c813180"
      },
      "outputs": [
        {
          "output_type": "stream",
          "name": "stdout",
          "text": [
            "Range of list? 3\n",
            "enter element :11\n",
            "enter element :122\n",
            "enter element :11\n",
            "[11, 122, 11]\n",
            "enter ur elem that u wanna search about122\n",
            "2 the elem is here\n",
            "1\n"
          ]
        }
      ],
      "source": [
        "numEleFiL=int(input(\"Range of list? \")) #user enter range of the first list\n",
        "L1=[] #empty list\n",
        "for i in range(numEleFiL): #make list with same nummber user added\n",
        "    ele1=int(input(\"enter element :\")) #first i=0, print number of element\n",
        "    L1.append(ele1)\n",
        "print(L1)\n",
        "j=int(input(\"enter ur elem that u wanna search about\"))\n",
        "if j in L1:\n",
        "  print(j,\"the elem is here\")\n",
        "  print(L1.index(j))\n",
        "else:\n",
        "  print(i,\"the elem not here\")"
      ]
    },
    {
      "cell_type": "markdown",
      "id": "d9557da7",
      "metadata": {
        "id": "d9557da7"
      },
      "source": [
        "**27- clear python list using different ways"
      ]
    },
    {
      "cell_type": "code",
      "execution_count": null,
      "id": "b69858a3",
      "metadata": {
        "id": "b69858a3",
        "colab": {
          "base_uri": "https://localhost:8080/"
        },
        "outputId": "f248bc8f-b1ff-4809-94c0-19dc182f66ef"
      },
      "outputs": [
        {
          "output_type": "stream",
          "name": "stdout",
          "text": [
            "Range of list? 3\n",
            "enter element :11\n",
            "enter element :12\n",
            "enter element :13\n",
            "[11, 12, 13]\n",
            "[]\n"
          ]
        }
      ],
      "source": [
        "numEleFiL=int(input(\"Range of list? \")) #user enter range of the first list\n",
        "L1=[] #empty list\n",
        "for i in range(numEleFiL): #make list with same nummber user added\n",
        "    ele1=int(input(\"enter element :\")) #first i=0, print number of element\n",
        "    L1.append(ele1)\n",
        "print(L1)\n",
        "L1.clear()\n",
        "print(L1)"
      ]
    },
    {
      "cell_type": "code",
      "source": [
        "numEleFiL=int(input(\"Range of list? \")) #user enter range of the first list\n",
        "L1=[] #empty list\n",
        "for i in range(numEleFiL): #make list with same nummber user added\n",
        "    ele1=int(input(\"enter element :\")) #first i=0, print number of element\n",
        "    L1.append(ele1)\n",
        "print(L1)\n",
        "del L1[:]\n",
        "print(L1)"
      ],
      "metadata": {
        "colab": {
          "base_uri": "https://localhost:8080/"
        },
        "id": "sOGeG9iZVJRN",
        "outputId": "3d9d9e85-6c8d-41b5-c946-e97240328fdf"
      },
      "id": "sOGeG9iZVJRN",
      "execution_count": null,
      "outputs": [
        {
          "output_type": "stream",
          "name": "stdout",
          "text": [
            "Range of list? 3\n",
            "enter element :11\n",
            "enter element :12\n",
            "enter element :13\n",
            "[11, 12, 13]\n",
            "[]\n"
          ]
        }
      ]
    },
    {
      "cell_type": "markdown",
      "id": "52160e88",
      "metadata": {
        "id": "52160e88"
      },
      "source": [
        "**28-remove duplicated elements from a list"
      ]
    },
    {
      "cell_type": "code",
      "execution_count": null,
      "id": "5e362228",
      "metadata": {
        "id": "5e362228",
        "colab": {
          "base_uri": "https://localhost:8080/"
        },
        "outputId": "17d839d3-24a4-456f-eb2f-5f9b1276d04e"
      },
      "outputs": [
        {
          "output_type": "stream",
          "name": "stdout",
          "text": [
            "Range of list? 4\n",
            "enter element :11\n",
            "enter element :12\n",
            "enter element :11\n",
            "enter element :13\n",
            "[11, 12, 11, 13]\n",
            "{11, 12, 13}\n"
          ]
        }
      ],
      "source": [
        "numEleFiL=int(input(\"Range of list? \")) #user enter range of the first list\n",
        "L1=[] #empty list\n",
        "for i in range(numEleFiL): #make list with same nummber user added\n",
        "    ele1=int(input(\"enter element :\")) #first i=0, print number of element\n",
        "    L1.append(ele1)\n",
        "print(L1)\n",
        "s=set(L1)\n",
        "print(s)"
      ]
    },
    {
      "cell_type": "markdown",
      "id": "282337f7",
      "metadata": {
        "id": "282337f7"
      },
      "source": [
        "**29-Given list values and keys list, convert these values to key value pairs in form of list of dictionaries. (Input : test_list = [“Gfg”, 3, “is”, 8], key_list = [“name”, “id”]\n",
        "Output : [{‘name’: ‘Gfg’, ‘id’: 3}, {‘name’: ‘is’, ‘id’: 8}])"
      ]
    },
    {
      "cell_type": "code",
      "execution_count": null,
      "id": "4d4e2d28",
      "metadata": {
        "id": "4d4e2d28",
        "colab": {
          "base_uri": "https://localhost:8080/"
        },
        "outputId": "783656cc-ee9d-4a7c-ad4e-d25a85f79e22"
      },
      "outputs": [
        {
          "output_type": "stream",
          "name": "stdout",
          "text": [
            "{'name': 'Gfg', 'id': 3}\n",
            "{'name': 'is', 'id': 8}\n"
          ]
        }
      ],
      "source": [
        "l=[\"Gfg\", 3, \"is\", 8]\n",
        "l2=[]\n",
        "l2.insert(0,l[2])\n",
        "l2.insert(1,l[3])\n",
        "k=[\"name\",\"id\"]\n",
        "j=dict(zip(k,l))\n",
        "f=dict(zip(k,l2))\n",
        "print(j)\n",
        "print(f)"
      ]
    },
    {
      "cell_type": "markdown",
      "id": "c26b6e9f",
      "metadata": {
        "id": "c26b6e9f"
      },
      "source": [
        "**30-write a python program to count unique values inside a list using different ways"
      ]
    },
    {
      "cell_type": "code",
      "source": [
        "l=[1, 2, 3, 5, 9, 6, 101]\n",
        "ma=l[0]\n",
        "for i in l:\n",
        "    if i > ma:\n",
        "        ma=i\n",
        "print(ma)"
      ],
      "metadata": {
        "colab": {
          "base_uri": "https://localhost:8080/"
        },
        "id": "8ryyVZeS1YvP",
        "outputId": "649d34cc-999a-4970-8bf6-4eff4cec97f1"
      },
      "id": "8ryyVZeS1YvP",
      "execution_count": 55,
      "outputs": [
        {
          "output_type": "stream",
          "name": "stdout",
          "text": [
            "101\n"
          ]
        }
      ]
    },
    {
      "cell_type": "markdown",
      "id": "fed6677c",
      "metadata": {
        "id": "fed6677c"
      },
      "source": [
        "**31-write a python program Extract all elements with Frequency greater than K (Input : test_list = [4, 6, 4, 3, 3, 4, 3, 4, 3, 8], K = 3\n",
        "Output : [4, 3] )"
      ]
    },
    {
      "cell_type": "code",
      "source": [
        "test_list = [4, 6, 4, 3, 3, 4, 3, 7, 8, 8]\n",
        "print(\"The original list : \",str(test_list))\n",
        "K=2\n",
        "res=[]\n",
        "for i in test_list:\n",
        "    freq = test_list.count(i)\n",
        "    if freq > K and i not in res:\n",
        "        res.append(i)\n",
        "print(\"The required elements : \",str(res))"
      ],
      "metadata": {
        "id": "664gMhZkEmnL",
        "colab": {
          "base_uri": "https://localhost:8080/"
        },
        "outputId": "3a62bd60-439a-47e0-849e-42786773af9f"
      },
      "id": "664gMhZkEmnL",
      "execution_count": 61,
      "outputs": [
        {
          "output_type": "stream",
          "name": "stdout",
          "text": [
            "The original list :  [4, 6, 4, 3, 3, 4, 3, 7, 8, 8]\n",
            "The required elements :  [4, 3]\n"
          ]
        }
      ]
    },
    {
      "cell_type": "markdown",
      "id": "caca5224",
      "metadata": {
        "id": "caca5224"
      },
      "source": [
        "**32-write a python program to find the Strongest Neighbour (Input: 1 2 2 3 4 5\n",
        "Output: 2 2 3 4 5)"
      ]
    },
    {
      "cell_type": "code",
      "execution_count": 59,
      "id": "39fbd9b2",
      "metadata": {
        "id": "39fbd9b2",
        "colab": {
          "base_uri": "https://localhost:8080/"
        },
        "outputId": "f12c09c7-587a-44d1-db91-54b45c0014de"
      },
      "outputs": [
        {
          "output_type": "stream",
          "name": "stdout",
          "text": [
            "22345"
          ]
        }
      ],
      "source": [
        "l=[1,2,2,3,4,5]\n",
        "i=0\n",
        "while i<len(l)-1:\n",
        "  print(max(l[i],l[i+1]),end=\"\")\n",
        "  i+=1"
      ]
    },
    {
      "cell_type": "markdown",
      "id": "a9fa8baf",
      "metadata": {
        "id": "a9fa8baf"
      },
      "source": [
        "**33-write a Python Program to print all Possible Combinations from the three Digits (Input: [1, 2, 3]\n",
        "Output:\n",
        "1 2 3 ##\n",
        "1 3 2 ##\n",
        "2 1 3 ##\n",
        "2 3 1 ##\n",
        "3 1 2 ##\n",
        "3 2 1)"
      ]
    },
    {
      "cell_type": "code",
      "execution_count": null,
      "id": "8c520a76",
      "metadata": {
        "id": "8c520a76",
        "colab": {
          "base_uri": "https://localhost:8080/"
        },
        "outputId": "39ebe849-9af8-4086-ffe1-6d058586c925"
      },
      "outputs": [
        {
          "output_type": "stream",
          "name": "stdout",
          "text": [
            "1 2 3\n",
            "1 3 2\n",
            "2 1 3\n",
            "2 3 1\n",
            "3 1 2\n",
            "3 2 1\n"
          ]
        }
      ],
      "source": [
        "l=[1,2,3]\n",
        "for i in range(0,3):\n",
        "  for j in range(0,3):\n",
        "    for k in range(0,3):\n",
        "      if(i!=j and j!=k and k!=i):\n",
        "        print(l[i],l[j],l[k])"
      ]
    },
    {
      "cell_type": "markdown",
      "id": "5288bb89",
      "metadata": {
        "id": "5288bb89"
      },
      "source": [
        "**34-write a Python program to find all the Combinations in the list with the given condition (Input: test_list = [1,2,3]\n",
        "Output:\n",
        " [1], [1, 2], [1, 2, 3], [1, 3]\n",
        " [2], [2, 3], [3])"
      ]
    },
    {
      "cell_type": "code",
      "source": [
        "l=[1,2,3]\n",
        "result=[]\n",
        "for i in range(len(l)):\n",
        "    result.append([l[i]])\n",
        "    for j in range(i + 1,len(l)):\n",
        "      result.append([l[i],l[j]])\n",
        "      for k in range(j + 1,len(l)):\n",
        "        result.append([l[i],l[j],l[k]])\n",
        "print(result)"
      ],
      "metadata": {
        "colab": {
          "base_uri": "https://localhost:8080/"
        },
        "id": "sDS9l0to3wpk",
        "outputId": "b4204807-8d16-4cee-edf6-dbbffe37024e"
      },
      "id": "sDS9l0to3wpk",
      "execution_count": 67,
      "outputs": [
        {
          "output_type": "stream",
          "name": "stdout",
          "text": [
            "[[1], [1, 2], [1, 2, 3], [1, 3], [2], [2, 3], [3]]\n"
          ]
        }
      ]
    },
    {
      "cell_type": "markdown",
      "id": "39973705",
      "metadata": {
        "id": "39973705"
      },
      "source": [
        "**35-write a Python program to get all unique combinations of two Lists (List_1 = [\"a\",\"b\"]\n",
        "List_2 = [1,2]\n",
        "Unique_combination = [[('a',1),('b',2)],[('a',2),('b',1)]] )"
      ]
    },
    {
      "cell_type": "code",
      "execution_count": 67,
      "id": "8c4ba22b",
      "metadata": {
        "id": "8c4ba22b",
        "colab": {
          "base_uri": "https://localhost:8080/"
        },
        "outputId": "dd0b43f7-3208-49e5-8ef6-84f91650b627"
      },
      "outputs": [
        {
          "output_type": "stream",
          "name": "stdout",
          "text": [
            "[('a', 1), ('a', 2), ('b', 1), ('b', 2)]\n"
          ]
        }
      ],
      "source": [
        "L1=[\"a\",\"b\"]\n",
        "L2=[1,2]\n",
        "l3=[]\n",
        "for i in L1:\n",
        "  for j in L2:\n",
        "    l3.append((i,j))\n",
        "print(l3)"
      ]
    },
    {
      "cell_type": "markdown",
      "id": "25199af5",
      "metadata": {
        "id": "25199af5"
      },
      "source": [
        "**36-Remove all the occurrences of an element from a list in Python (Input : 1 1 2 3 4 5 1 2 1\n",
        "\n",
        "**Output : 2 3 4 5 2)"
      ]
    },
    {
      "cell_type": "code",
      "execution_count": null,
      "id": "6dc4c2ba",
      "metadata": {
        "id": "6dc4c2ba",
        "colab": {
          "base_uri": "https://localhost:8080/"
        },
        "outputId": "f8ed69ae-128f-4a36-8040-b6b44ed45408"
      },
      "outputs": [
        {
          "output_type": "stream",
          "name": "stdout",
          "text": [
            "[1, 2, 3, 4, 5, 1, 2, 1]\n"
          ]
        }
      ],
      "source": [
        "l=[1, 1, 2 ,3, 4, 5 ,1, 2 ,1]\n",
        "l.remove(1)\n",
        "print(l)"
      ]
    },
    {
      "cell_type": "markdown",
      "id": "bf1a3c93",
      "metadata": {
        "id": "bf1a3c93"
      },
      "source": [
        "**37-write a python program to Replace index elements with elements in Other List (The original list 1 is : [‘Gfg’, ‘is’, ‘best’] The original list 2 is : [0, 1, 2, 1, 0, 0, 0, 2, 1, 1, 2, 0] The lists after index elements replacements is : [‘Gfg’, ‘is’, ‘best’, ‘is’, ‘Gfg’, ‘Gfg’, ‘Gfg’, ‘best’, ‘is’, ‘is’, ‘best’, ‘Gfg’])"
      ]
    },
    {
      "cell_type": "code",
      "execution_count": 81,
      "id": "fdd66a71",
      "metadata": {
        "id": "fdd66a71",
        "colab": {
          "base_uri": "https://localhost:8080/"
        },
        "outputId": "60071ff8-47ae-4f64-e6bf-45f77a9ada46"
      },
      "outputs": [
        {
          "output_type": "stream",
          "name": "stdout",
          "text": [
            "['Gfg', 'is', 'best']\n",
            "['Gfg', 'is', 'best', 'is', 'Gfg', 'Gfg', 'Gfg', 'best', 'is', 'is', 'best', 'Gfg']\n"
          ]
        }
      ],
      "source": [
        "or1=['Gfg', 'is','best']\n",
        "or2=[0, 1, 2, 1, 0, 0, 0, 2, 1, 1, 2, 0]\n",
        "\n",
        "or2[-1]=or2[4]=or2[5]=or2[6]=or2[0]=or1[0]\n",
        "or2[3]=or2[8]=or2[9]=or2[1]=or1[1]\n",
        "or2[7]=or2[-2]=or2[2]=or1[2]\n",
        "print(or1)\n",
        "print(or2)\n"
      ]
    },
    {
      "cell_type": "markdown",
      "id": "af0f56e8",
      "metadata": {
        "id": "af0f56e8"
      },
      "source": [
        "**38- write python program to Retain records with N occurrences of K(Input : test_list = [(4, 5, 5, 4), (5, 4, 3)], K = 5, N = 2\n",
        "Output : [(4, 5, 5, 4)]\n",
        "Input : test_list = [(4, 5, 5, 4), (5, 4, 3)], K = 5, N = 3\n",
        "Output : [] )"
      ]
    },
    {
      "cell_type": "code",
      "execution_count": 68,
      "id": "67b06671",
      "metadata": {
        "id": "67b06671",
        "colab": {
          "base_uri": "https://localhost:8080/"
        },
        "outputId": "fa24153a-0174-4203-f32a-3e3fe1ec7009"
      },
      "outputs": [
        {
          "output_type": "stream",
          "name": "stdout",
          "text": [
            "Range of first list? 4\n",
            "enter element :4\n",
            "enter element :5\n",
            "enter element :5\n",
            "enter element :4\n",
            "Range of second list?3\n",
            "enter element :5\n",
            "enter element :4\n",
            "enter element :3\n",
            "The first list is: [4, 5, 5, 4]\n",
            "The second list is: [5, 4, 3]\n",
            "The common numbers are: [4, 5, 5, 4]\n"
          ]
        }
      ],
      "source": [
        "numEleFiL=int(input(\"Range of first list? \")) #user enter range of the first list\n",
        "L1=[] #empty list\n",
        "for i in range(numEleFiL): #make list with same nummber user added\n",
        "    ele1=int(input(\"enter element :\")) #first i=0, print number of element\n",
        "    L1.append(ele1)\n",
        "\n",
        "numEle2L=int(input(\"Range of second list?\"))#user enter range of the second list\n",
        "L2=[] #empty list\n",
        "for i in range(numEle2L):#make list with same nummber user added\n",
        "    ele2=int(input(\"enter element :\"))#first i=0, print number of element\n",
        "    L2.append(ele2)\n",
        "\n",
        "L3=[]#empty list\n",
        "for i in L1: #check\n",
        "  for j in L2:#check\n",
        "      if i==j:#condi\n",
        "        L3.append(i)\n",
        "\n",
        "print(\"The first list is:\", L1)\n",
        "print(\"The second list is:\", L2)\n",
        "print( L3)"
      ]
    },
    {
      "cell_type": "markdown",
      "id": "de76f183",
      "metadata": {
        "id": "de76f183"
      },
      "source": [
        "**39-write a Python Program to Sort the list according to the column using lambda\n",
        "array = [[1, 3, 3], [2, 1, 2], [3, 2, 1]]\n",
        "Output :\n",
        "Sorted array specific to column 0, [[1, 3, 3], [2, 1, 2], [3, 2, 1]]\n",
        "Sorted array specific to column 1, [[2, 1, 2], [3, 2, 1], [1, 3, 3]]\n",
        "Sorted array specific to column 2, [[3, 2, 1], [2, 1, 2], [1, 3, 3]]"
      ]
    },
    {
      "cell_type": "code",
      "source": [
        "l=[[1, 3, 3], [2, 1, 2], [3, 2, 1]]\n",
        "result=[]\n",
        "for i in range(len(l)):\n",
        "    result.append([l[i]])\n",
        "    for j in range(i + 1,len(l)):\n",
        "      result.append([l[i],l[j]])\n",
        "      for k in range(j + 1,len(l)):\n",
        "        result.append([l[i],l[j],l[k]])\n",
        "print(result)"
      ],
      "metadata": {
        "colab": {
          "base_uri": "https://localhost:8080/"
        },
        "id": "EzNeHlieXCN5",
        "outputId": "608766e6-372c-4542-a9a8-bd6a3e1cde46"
      },
      "id": "EzNeHlieXCN5",
      "execution_count": 69,
      "outputs": [
        {
          "output_type": "stream",
          "name": "stdout",
          "text": [
            "[[[1, 3, 3]], [[1, 3, 3], [2, 1, 2]], [[1, 3, 3], [2, 1, 2], [3, 2, 1]], [[1, 3, 3], [3, 2, 1]], [[2, 1, 2]], [[2, 1, 2], [3, 2, 1]], [[3, 2, 1]]]\n"
          ]
        }
      ]
    },
    {
      "cell_type": "markdown",
      "source": [
        "**40- write a program to Sort Python Dictionaries by Key or Value\n",
        "Input:\n",
        "{'ravi': 10, 'rajnish': 9, 'sanjeev': 15, 'yash': 2, 'suraj': 32}\n",
        "\n",
        "Output:\n",
        "{'rajnish': 9, 'ravi': 10, 'sanjeev': 15, 'suraj': 32, 'yash': 2}\n"
      ],
      "metadata": {
        "id": "R4lClR96QS__"
      },
      "id": "R4lClR96QS__"
    },
    {
      "cell_type": "code",
      "execution_count": 47,
      "id": "a96db4a0",
      "metadata": {
        "id": "a96db4a0",
        "colab": {
          "base_uri": "https://localhost:8080/"
        },
        "outputId": "8773c038-0b0f-4a13-9348-7c0ffe37af48"
      },
      "outputs": [
        {
          "output_type": "stream",
          "name": "stdout",
          "text": [
            "[('rajnish', 9), ('ravi', 10), ('sanjeev', 15), ('suraj', 32), ('yash', 2)]\n"
          ]
        }
      ],
      "source": [
        "d1={'ravi': 10, 'rajnish': 9, 'sanjeev': 15, 'yash': 2, 'suraj': 32}\n",
        "so=sorted(d1.items())\n",
        "print(so)"
      ]
    },
    {
      "cell_type": "markdown",
      "id": "ec63c23a",
      "metadata": {
        "id": "ec63c23a"
      },
      "source": [
        "**41-write python program to Remove keys with Values Greater than K ( Including mixed values )\n",
        "nput : test_dict = {‘Gfg’ : 3, ‘is’ : 7, ‘best’ : 10, ‘for’ : 6, ‘geeks’ : ‘CS’},\n",
        "K = 7\n",
        "Output : {‘Gfg’ : 3, ‘for’ : 6, ‘geeks’ : ‘CS’}"
      ]
    },
    {
      "cell_type": "code",
      "execution_count": 46,
      "id": "e39c3a40",
      "metadata": {
        "id": "e39c3a40",
        "colab": {
          "base_uri": "https://localhost:8080/"
        },
        "outputId": "1119392c-e717-427e-f911-aa0d874f0b0a"
      },
      "outputs": [
        {
          "output_type": "stream",
          "name": "stdout",
          "text": [
            "{'Gfg': 3, 'best': 10, 'for': 6, 'geeks': 'CS'}\n"
          ]
        }
      ],
      "source": [
        "test_dict = {'Gfg' : 3, 'is' : 7, 'best' : 10, 'for' : 6, 'geeks' : 'CS'}\n",
        "test_dict.pop('is')\n",
        "print(test_dict)"
      ]
    },
    {
      "cell_type": "markdown",
      "id": "f143f0fe",
      "metadata": {
        "id": "f143f0fe"
      },
      "source": [
        "**42-Write a Python program to concatenate the following dictionaries to create a new one\n",
        "\n",
        "Sample Dictionary :\n",
        "dic1={1:10, 2:20}\n",
        "dic2={3:30, 4:40}\n",
        "dic3={5:50,6:60}\n",
        "Expected Result : {1: 10, 2: 20, 3: 30, 4: 40, 5: 50, 6: 60}"
      ]
    },
    {
      "cell_type": "code",
      "execution_count": 42,
      "id": "74ffdfea",
      "metadata": {
        "id": "74ffdfea",
        "colab": {
          "base_uri": "https://localhost:8080/"
        },
        "outputId": "44ed88ce-5412-40f3-a2a1-709093b347ce"
      },
      "outputs": [
        {
          "output_type": "stream",
          "name": "stdout",
          "text": [
            "{1: 10, 2: 20, 3: 30, 4: 40, 5: 50, 6: 60}\n"
          ]
        }
      ],
      "source": [
        "dic1={1:10, 2:20}\n",
        "dic2={3:30, 4:40}\n",
        "dic3={5:50,6:60}\n",
        "dic1.update(dic2)\n",
        "dic1.update(dic3)\n",
        "print(dic1)"
      ]
    },
    {
      "cell_type": "markdown",
      "id": "fb04c93c",
      "metadata": {
        "id": "fb04c93c"
      },
      "source": [
        "**43-Write a Python program to iterate over dictionaries using for loops"
      ]
    },
    {
      "cell_type": "code",
      "execution_count": 39,
      "id": "6aebc470",
      "metadata": {
        "id": "6aebc470",
        "colab": {
          "base_uri": "https://localhost:8080/"
        },
        "outputId": "f5929961-9a28-4e36-c0c9-aa83b587a85a"
      },
      "outputs": [
        {
          "output_type": "stream",
          "name": "stdout",
          "text": [
            "a\n",
            "100\n",
            "b\n",
            "540\n",
            "c\n",
            "247\n",
            "d\n",
            "600\n"
          ]
        }
      ],
      "source": [
        "di={'a':100,'b':540,'c':247,'d':600}\n",
        "for i in di:\n",
        "  print(i)\n",
        "  print(di[i])"
      ]
    },
    {
      "cell_type": "markdown",
      "id": "5f491a9d",
      "metadata": {
        "id": "5f491a9d"
      },
      "source": [
        "**44- Write a Python script to merge two Python dictionaries"
      ]
    },
    {
      "cell_type": "code",
      "execution_count": 37,
      "id": "b8a14028",
      "metadata": {
        "id": "b8a14028",
        "colab": {
          "base_uri": "https://localhost:8080/"
        },
        "outputId": "e13b6a74-4dcd-4664-da27-1a7b8686f87e"
      },
      "outputs": [
        {
          "output_type": "stream",
          "name": "stdout",
          "text": [
            "{'a': 100, 'b': 540, 'c': 247, 'd': 600, 'j': 1000, 'k': 5440, 'l': 2447, 'n': 60}\n"
          ]
        }
      ],
      "source": [
        "di1={'a':100,'b':540,'c':247,'d':600}\n",
        "di2={'j':1000,'k':5440,'l':2447,'n':60}\n",
        "di1.update(di2)\n",
        "print(di1)"
      ]
    },
    {
      "cell_type": "markdown",
      "id": "216fc72d",
      "metadata": {
        "id": "216fc72d"
      },
      "source": [
        "**45-Write a Python program to get the maximum and minimum values of a dictionary values"
      ]
    },
    {
      "cell_type": "code",
      "execution_count": 33,
      "id": "d6883f5f",
      "metadata": {
        "id": "d6883f5f",
        "colab": {
          "base_uri": "https://localhost:8080/"
        },
        "outputId": "b94155be-5604-4441-c042-f3d20f143803"
      },
      "outputs": [
        {
          "output_type": "stream",
          "name": "stdout",
          "text": [
            "540\n",
            "100\n"
          ]
        }
      ],
      "source": [
        "di={'a':100,'b':540,'c':247,'d':600}\n",
        "print(max(di.values()))\n",
        "print(min(di.values()))"
      ]
    },
    {
      "cell_type": "markdown",
      "id": "b6a53011",
      "metadata": {
        "id": "b6a53011"
      },
      "source": [
        "**46- Write a Python program to drop empty items from a given dictionary.\n",
        "Original Dictionary:\n",
        "{'c1': 'Red', 'c2': 'Green', 'c3': None}\n",
        "New Dictionary after dropping empty items:\n",
        "{'c1': 'Red', 'c2': 'Green'}"
      ]
    },
    {
      "cell_type": "code",
      "execution_count": 32,
      "id": "b5c6fecf",
      "metadata": {
        "id": "b5c6fecf",
        "colab": {
          "base_uri": "https://localhost:8080/"
        },
        "outputId": "ccfb28fc-427f-496f-a33d-8702ac563e02"
      },
      "outputs": [
        {
          "output_type": "stream",
          "name": "stdout",
          "text": [
            "{'c1': 'Red', 'c2': 'Green'}\n"
          ]
        }
      ],
      "source": [
        "Original_Dictionary= {'c1': 'Red', 'c2': 'Green', 'c3': None}\n",
        "New_Dictionary=Original_Dictionary.pop('c3')\n",
        "print(Original_Dictionary)"
      ]
    },
    {
      "cell_type": "markdown",
      "id": "46d718c7",
      "metadata": {
        "id": "46d718c7"
      },
      "source": [
        "**47-Write a Python program to create a tuple of numbers and print one item"
      ]
    },
    {
      "cell_type": "code",
      "execution_count": 2,
      "id": "13216ff5",
      "metadata": {
        "id": "13216ff5",
        "colab": {
          "base_uri": "https://localhost:8080/"
        },
        "outputId": "38b7e897-1de3-4a69-93cd-cd8c81ece94f"
      },
      "outputs": [
        {
          "output_type": "stream",
          "name": "stdout",
          "text": [
            "1\n"
          ]
        }
      ],
      "source": [
        "tu=(1,2,3,4,5)\n",
        "print(tu[0])"
      ]
    },
    {
      "cell_type": "markdown",
      "id": "2be5b56b",
      "metadata": {
        "id": "2be5b56b"
      },
      "source": [
        "**48-Write a Python program to unpack a tuple into several variables"
      ]
    },
    {
      "cell_type": "code",
      "execution_count": 3,
      "id": "595f44be",
      "metadata": {
        "id": "595f44be",
        "colab": {
          "base_uri": "https://localhost:8080/"
        },
        "outputId": "21e14af5-e180-4767-fded-edbd73508084"
      },
      "outputs": [
        {
          "output_type": "stream",
          "name": "stdout",
          "text": [
            "1 2 3 4 5\n"
          ]
        }
      ],
      "source": [
        "tu=(1,2,3,4,5)\n",
        "a,b,c,d,e=tu\n",
        "print(a,b,c,d,e)"
      ]
    },
    {
      "cell_type": "markdown",
      "id": "392388a7",
      "metadata": {
        "id": "392388a7"
      },
      "source": [
        "**49-Write a Python program to add an item to a tuple"
      ]
    },
    {
      "cell_type": "code",
      "execution_count": 15,
      "id": "54cc092e",
      "metadata": {
        "id": "54cc092e",
        "colab": {
          "base_uri": "https://localhost:8080/"
        },
        "outputId": "012cdc7d-154c-4060-d96e-bebd39543464"
      },
      "outputs": [
        {
          "output_type": "stream",
          "name": "stdout",
          "text": [
            "(1, 2, 3, 4, 5, 6)\n",
            "(1, 2, 3, 4, 5, 6, 7)\n"
          ]
        }
      ],
      "source": [
        "tu=(1,2,3,4,5)\n",
        "#we can't add or remove from tuple so covert it to list or set\n",
        "l=list(tu)\n",
        "l.append(6)\n",
        "tu=tuple(l)\n",
        "print(tu)\n",
        "s=set(tu)\n",
        "s.add(7)\n",
        "tu=tuple(s)\n",
        "print(tu)"
      ]
    },
    {
      "cell_type": "markdown",
      "id": "3e8fd124",
      "metadata": {
        "id": "3e8fd124"
      },
      "source": [
        "**50-Write a Python program to convert a tuple to a string"
      ]
    },
    {
      "cell_type": "code",
      "execution_count": 8,
      "id": "92a71ddc",
      "metadata": {
        "id": "92a71ddc",
        "colab": {
          "base_uri": "https://localhost:8080/"
        },
        "outputId": "a25931d1-bc60-47d9-8369-fdcfb695e1a4"
      },
      "outputs": [
        {
          "output_type": "stream",
          "name": "stdout",
          "text": [
            "(1, 2, 3, 4, 5)\n"
          ]
        },
        {
          "output_type": "execute_result",
          "data": {
            "text/plain": [
              "str"
            ]
          },
          "metadata": {},
          "execution_count": 8
        }
      ],
      "source": [
        "tu=(1,2,3,4,5)\n",
        "st=str(tu)\n",
        "print(st)\n",
        "type(st)"
      ]
    },
    {
      "cell_type": "markdown",
      "id": "f4f64ef4",
      "metadata": {
        "id": "f4f64ef4"
      },
      "source": [
        "**51-Write a Python program to convert a list to a tuple"
      ]
    },
    {
      "cell_type": "code",
      "execution_count": 9,
      "id": "210d56d3",
      "metadata": {
        "id": "210d56d3",
        "colab": {
          "base_uri": "https://localhost:8080/"
        },
        "outputId": "4bde8976-989c-4908-e827-2f5809e18b9f"
      },
      "outputs": [
        {
          "output_type": "stream",
          "name": "stdout",
          "text": [
            "(1, 2, 3, 4, 5)\n"
          ]
        },
        {
          "output_type": "execute_result",
          "data": {
            "text/plain": [
              "tuple"
            ]
          },
          "metadata": {},
          "execution_count": 9
        }
      ],
      "source": [
        "l=[1,2,3,4,5]\n",
        "tu=tuple(l)\n",
        "print(tu)\n",
        "type(tu)"
      ]
    },
    {
      "cell_type": "markdown",
      "id": "b1e00ef7",
      "metadata": {
        "id": "b1e00ef7"
      },
      "source": [
        "**52-Write a Python program to reverse a tuple"
      ]
    },
    {
      "cell_type": "code",
      "execution_count": 10,
      "id": "f45bfdc7",
      "metadata": {
        "id": "f45bfdc7",
        "colab": {
          "base_uri": "https://localhost:8080/"
        },
        "outputId": "d1ad6b65-4444-437e-a4aa-b76bf576ce39"
      },
      "outputs": [
        {
          "output_type": "stream",
          "name": "stdout",
          "text": [
            "(5, 4, 3, 2, 1)\n"
          ]
        }
      ],
      "source": [
        "tu=(1,2,3,4,5)\n",
        "print(tu[::-1])"
      ]
    },
    {
      "cell_type": "markdown",
      "id": "3cd347d1",
      "metadata": {
        "id": "3cd347d1"
      },
      "source": [
        "**53-Write a Python program to replace the last value of tuples in a list.\n",
        "Sample list: [(10, 20, 40), (40, 50, 60), (70, 80, 90)]\n",
        "Expected Output: [(10, 20, 100), (40, 50, 100), (70, 80, 100)]"
      ]
    },
    {
      "cell_type": "code",
      "execution_count": 82,
      "id": "3c4a2a4c",
      "metadata": {
        "id": "3c4a2a4c",
        "colab": {
          "base_uri": "https://localhost:8080/"
        },
        "outputId": "da496b15-7026-480b-e7e0-815d5ef9cf52"
      },
      "outputs": [
        {
          "output_type": "stream",
          "name": "stdout",
          "text": [
            "[(10, 20, 100), (40, 50, 100), (70, 80, 100)]\n"
          ]
        }
      ],
      "source": [
        "l1=[(10, 20, 40), (40, 50, 60), (70, 80, 90)]\n",
        "l2=[]\n",
        "for i in l1:\n",
        "  l2.append(i[:-1]+(100,))\n",
        "print(l2)\n"
      ]
    },
    {
      "cell_type": "markdown",
      "id": "76bb7b39",
      "metadata": {
        "id": "76bb7b39"
      },
      "source": [
        "**54-Write a Python program to convert a given string list to a tuple\n",
        "Original string: python 3.0\n",
        "<class 'str'>\n",
        "Convert the said string to a tuple:\n",
        "('p', 'y', 't', 'h', 'o', 'n', '3', '.', '0')"
      ]
    },
    {
      "cell_type": "code",
      "execution_count": 11,
      "id": "51951937",
      "metadata": {
        "id": "51951937",
        "colab": {
          "base_uri": "https://localhost:8080/"
        },
        "outputId": "6c5bd761-fa7d-4fec-f04a-9a9cd26ddb0a"
      },
      "outputs": [
        {
          "output_type": "stream",
          "name": "stdout",
          "text": [
            "('p', 'y', 't', 'h', 'o', 'n', ' ', '3', '.', '0')\n"
          ]
        }
      ],
      "source": [
        "st=\"python 3.0\"\n",
        "tu=tuple(st)\n",
        "print(tu)"
      ]
    },
    {
      "cell_type": "markdown",
      "id": "5a1d5d97",
      "metadata": {
        "id": "5a1d5d97"
      },
      "source": [
        "**55-Write a Python program to calculate the average value of the numbers in a given tuple of tuples"
      ]
    },
    {
      "cell_type": "code",
      "execution_count": 13,
      "id": "834e7992",
      "metadata": {
        "id": "834e7992",
        "colab": {
          "base_uri": "https://localhost:8080/"
        },
        "outputId": "8edd5f02-6289-47aa-c216-91383043fd1c"
      },
      "outputs": [
        {
          "output_type": "stream",
          "name": "stdout",
          "text": [
            "3.0\n"
          ]
        }
      ],
      "source": [
        "tu=(1,2,3,4,5)\n",
        "su=sum(tu)\n",
        "le=len(tu)\n",
        "print(\" the average value of the numbers in a given tuple \",su/le)"
      ]
    },
    {
      "cell_type": "markdown",
      "id": "51edab9c",
      "metadata": {
        "id": "51edab9c"
      },
      "source": [
        "**56-Write a Python program to add member(s) to a set."
      ]
    },
    {
      "cell_type": "code",
      "execution_count": 16,
      "id": "2b65df79",
      "metadata": {
        "id": "2b65df79",
        "colab": {
          "base_uri": "https://localhost:8080/"
        },
        "outputId": "f1646b89-4bf3-4999-8852-28c8f0f495b3"
      },
      "outputs": [
        {
          "output_type": "stream",
          "name": "stdout",
          "text": [
            "{1, 2, 3, 4, 5, 6, 7}\n"
          ]
        }
      ],
      "source": [
        "s={1,2,3,4,5}\n",
        "s.add(6)\n",
        "s.add(7)\n",
        "print(s)"
      ]
    },
    {
      "cell_type": "markdown",
      "id": "965590cc",
      "metadata": {
        "id": "965590cc"
      },
      "source": [
        "**57-Write a Python program to remove an item from a set if it is present in the set."
      ]
    },
    {
      "cell_type": "code",
      "execution_count": 22,
      "id": "866bab28",
      "metadata": {
        "id": "866bab28",
        "colab": {
          "base_uri": "https://localhost:8080/"
        },
        "outputId": "106becdb-0229-4003-fbf1-666a735dbd87"
      },
      "outputs": [
        {
          "output_type": "stream",
          "name": "stdout",
          "text": [
            "{3, 4, 5}\n"
          ]
        }
      ],
      "source": [
        "s={1,2,3,4,5}\n",
        "s.remove(1)\n",
        "s.pop()\n",
        "\n",
        "print(s)"
      ]
    },
    {
      "cell_type": "markdown",
      "id": "2b7cfed1",
      "metadata": {
        "id": "2b7cfed1"
      },
      "source": [
        "**58-Write a Python program to create an intersection,union,difference and symmetric difference of sets"
      ]
    },
    {
      "cell_type": "code",
      "execution_count": 26,
      "id": "7f94b7fe",
      "metadata": {
        "id": "7f94b7fe",
        "colab": {
          "base_uri": "https://localhost:8080/"
        },
        "outputId": "0e3b1744-4c5c-4bda-bd2c-ede19f860b95"
      },
      "outputs": [
        {
          "output_type": "stream",
          "name": "stdout",
          "text": [
            "{2}\n",
            "{1, 2, 3}\n",
            "{1}\n",
            "{3}\n",
            "{1, 3}\n",
            "{1, 3}\n"
          ]
        }
      ],
      "source": [
        "U={1,2,3,4,5,6,7,8}\n",
        "A={1,2}\n",
        "B={2,3}\n",
        "print(A.intersection(B))\n",
        "print(A.union(B))\n",
        "print(A.difference(B))\n",
        "print(B.difference(A))\n",
        "print(A.symmetric_difference(B))\n",
        "print(B.symmetric_difference(A))"
      ]
    },
    {
      "cell_type": "markdown",
      "id": "b94931e2",
      "metadata": {
        "id": "b94931e2"
      },
      "source": [
        "**59-Write a Python program to find the maximum and minimum values in a set"
      ]
    },
    {
      "cell_type": "code",
      "execution_count": 27,
      "id": "203f9600",
      "metadata": {
        "id": "203f9600",
        "colab": {
          "base_uri": "https://localhost:8080/"
        },
        "outputId": "ee3e1290-bbfd-4893-e500-dd50ff841b81"
      },
      "outputs": [
        {
          "output_type": "stream",
          "name": "stdout",
          "text": [
            "8\n",
            "1\n"
          ]
        }
      ],
      "source": [
        "U={1,2,3,4,5,6,7,8}\n",
        "print(max(U))\n",
        "print(min(U))"
      ]
    },
    {
      "cell_type": "markdown",
      "id": "255fd554",
      "metadata": {
        "id": "255fd554"
      },
      "source": [
        "**60- Write a Python program that finds all pairs of elements in a list whose sum is equal to a given value."
      ]
    },
    {
      "cell_type": "code",
      "execution_count": 31,
      "id": "c2d94e1f",
      "metadata": {
        "id": "c2d94e1f",
        "colab": {
          "base_uri": "https://localhost:8080/"
        },
        "outputId": "a9c128ff-521e-4e9e-e5ce-9a43f6a6d3de"
      },
      "outputs": [
        {
          "output_type": "stream",
          "name": "stdout",
          "text": [
            "1 4\n",
            "2 3\n"
          ]
        }
      ],
      "source": [
        "L=[1,2,3,4,5,6,7]\n",
        "gi=5\n",
        "i=0\n",
        "while i<len(L):\n",
        "  for j in range(i+1,len(L)):\n",
        "    if L[i]+L[j]==gi:\n",
        "      print(L[i],L[j])\n",
        "  i+=1"
      ]
    }
  ],
  "metadata": {
    "kernelspec": {
      "display_name": "Python 3 (ipykernel)",
      "language": "python",
      "name": "python3"
    },
    "language_info": {
      "codemirror_mode": {
        "name": "ipython",
        "version": 3
      },
      "file_extension": ".py",
      "mimetype": "text/x-python",
      "name": "python",
      "nbconvert_exporter": "python",
      "pygments_lexer": "ipython3",
      "version": "3.9.7"
    },
    "colab": {
      "provenance": []
    }
  },
  "nbformat": 4,
  "nbformat_minor": 5
}